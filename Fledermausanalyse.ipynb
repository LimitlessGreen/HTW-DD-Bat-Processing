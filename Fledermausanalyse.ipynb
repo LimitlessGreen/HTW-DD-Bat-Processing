{
 "cells": [
  {
   "cell_type": "code",
   "execution_count": 1,
   "metadata": {
    "pycharm": {
     "is_executing": true,
     "name": "#%%\n"
    }
   },
   "outputs": [],
   "source": [
    "import sys  \n",
    "sys.path.insert(0, './')\n",
    "\n",
    "import BatWorkbook"
   ]
  },
  {
   "cell_type": "code",
   "execution_count": 2,
   "metadata": {
    "pycharm": {
     "name": "#%%\n"
    }
   },
   "outputs": [],
   "source": [
    "workbook = BatWorkbook.BatWorkbook(path=\"..\")"
   ]
  },
  {
   "cell_type": "code",
   "execution_count": 3,
   "metadata": {
    "pycharm": {
     "name": "#%%\n"
    }
   },
   "outputs": [
    {
     "name": "stdout",
     "output_type": "stream",
     "text": [
      "../Standort 1 - Bach Boden/30.04.22/BatClassify_Ergebnisse/Results.csv\n",
      "=== Autoanalysed Bats ===\n",
      "Bbar: 0.0%\n",
      "Malc: 0.0%\n",
      "Mbec: 0.0%\n",
      "MbraMmys: 23.91%\n",
      "Mdau: 6.01%\n",
      "Mnat: 0.51%\n",
      "NSL: 2.03%\n",
      "Paur: 0.0%\n",
      "Ppip: 52.39%\n",
      "Ppyg: 14.13%\n",
      "Rfer: 0.0%\n",
      "Rhip: 0.0%\n",
      "Pnat: 1.01%\n"
     ]
    }
   ],
   "source": [
    "session_1 = workbook.new_sheet(\"Standort 1 - Bach Boden\", \"30.04.22\")\n",
    "# display(session_1.bat_csv)\n",
    "session_1.print_statistics()"
   ]
  },
  {
   "cell_type": "markdown",
   "metadata": {
    "pycharm": {
     "name": "#%% md\n"
    }
   },
   "source": [
    "## Klassifizierung\n",
    "Klassifiziere alle mit P beginnenden Fledermäuse, die:\n",
    "- eindeutig sind\n",
    "- eine Wahrscheinlichkeit ab 0.9 aufweisen\n"
   ]
  },
  {
   "cell_type": "code",
   "execution_count": 5,
   "metadata": {
    "pycharm": {
     "name": "#%%\n"
    }
   },
   "outputs": [
    {
     "name": "stdout",
     "output_type": "stream",
     "text": [
      "    Classifications: 505 / 1076\n"
     ]
    }
   ],
   "source": [
    "session_1.reduce(\"Ppip\", 0.92)\n",
    "session_1.reduce(\"Ppyg\", 0.92)\n",
    "#display(session_1.bat_csv)\n",
    "session_1.print_classification_progress()"
   ]
  },
  {
   "cell_type": "code",
   "execution_count": 6,
   "metadata": {
    "pycharm": {
     "name": "#%%\n"
    }
   },
   "outputs": [],
   "source": [
    "session_1.export_excel(\"Fledermausrufe\")"
   ]
  },
  {
   "cell_type": "code",
   "execution_count": 7,
   "metadata": {
    "pycharm": {
     "name": "#%%\n"
    }
   },
   "outputs": [
    {
     "name": "stdout",
     "output_type": "stream",
     "text": [
      "../Standort 1 - Bach Boden/1.05.22/BatClassify_Ergebnisse/Results.csv\n",
      "=== Autoanalysed Bats ===\n",
      "Bbar: 0.12%\n",
      "Malc: 0.0%\n",
      "Mbec: 0.0%\n",
      "MbraMmys: 15.13%\n",
      "Mdau: 0.6%\n",
      "Mnat: 1.27%\n",
      "NSL: 1.27%\n",
      "Paur: 0.0%\n",
      "Ppip: 55.27%\n",
      "Ppyg: 26.16%\n",
      "Rfer: 0.0%\n",
      "Rhip: 0.0%\n",
      "Pnat: 0.18%\n"
     ]
    }
   ],
   "source": [
    "session_2 = workbook.new_sheet(\"Standort 1 - Bach Boden\", \"1.05.22\")\n",
    "display(session_2.bat_csv)\n",
    "session_2.print_statistics()\n",
    "session_2.reduce(\"Ppip\", 0.92)\n",
    "session_2.reduce(\"Ppyg\", 0.92)\n",
    "session_1.print_classification_progress()\n",
    "session_2.export_excel(\"Fledermausrufe\")\n"
   ]
  }
 ],
 "metadata": {
  "interpreter": {
   "hash": "6d569a2471c24ea9465c07a6c3c726e5aa1e5a4165d214c2a259e269880b88f6"
  },
  "kernelspec": {
   "display_name": "Python 3.10.4 64-bit (windows store)",
   "language": "python",
   "name": "python3"
  },
  "language_info": {
   "codemirror_mode": {
    "name": "ipython",
    "version": 3
   },
   "file_extension": ".py",
   "mimetype": "text/x-python",
   "name": "python",
   "nbconvert_exporter": "python",
   "pygments_lexer": "ipython3",
   "version": "3.10.4"
  }
 },
 "nbformat": 4,
 "nbformat_minor": 4
}
