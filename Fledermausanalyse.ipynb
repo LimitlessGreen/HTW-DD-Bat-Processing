{
 "cells": [
  {
   "cell_type": "markdown",
   "source": [
    "# Fledermaus Worksheet\n",
    "für die Arbeit mit dem Workflow der HTW Dresden im Fach Tierökologie."
   ],
   "metadata": {
    "collapsed": false,
    "pycharm": {
     "name": "#%% md\n"
    }
   }
  },
  {
   "cell_type": "code",
   "execution_count": 1,
   "outputs": [],
   "source": [
    "import sys\n",
    "sys.path.insert(0, './')\n",
    "\n",
    "import BatWorkbook"
   ],
   "metadata": {
    "collapsed": false,
    "pycharm": {
     "name": "#%%\n"
    }
   }
  },
  {
   "cell_type": "code",
   "execution_count": 2,
   "metadata": {
    "pycharm": {
     "name": "#%%\n"
    }
   },
   "outputs": [],
   "source": [
    "workbook = BatWorkbook.BatWorkbook(path=\"..\")\n",
    "designer = workbook.get_designer()"
   ]
  },
  {
   "cell_type": "code",
   "execution_count": 3,
   "outputs": [],
   "source": [
    "# der designer gilt global für alle worksheets\n",
    "\n",
    "# Farbige Zeilen für die 10 Minuten Klassen\n",
    "designer.color_wheel_classes = [\"00ffefd4\", \"00fffeef\", \"00eff0ff\"]\n",
    "\n",
    "# Anpassen der Namen der Spalten in der späteren Excel Tabelle\n",
    "# \"interne_representation\": \"Name in der Excel Tabelle\"\n",
    "designer.columns = {\n",
    "            \"file_path\": \"FilePath\",\n",
    "            \"file_name\": \"FileName\",\n",
    "            \"date\": \"Date\",\n",
    "            \"time\": \"Time\",\n",
    "            \"Bbar\": \"Bbar\",\n",
    "            \"Malc\": \"Malc\",\n",
    "            \"Mbec\": \"Mbec\",\n",
    "            \"MbraMmys\": \"MbraMmys\",\n",
    "            \"Mdau\": \"Mdau\",\n",
    "            \"Mnat\": \"Mnat\",\n",
    "            \"NSL\": \"NSL\",\n",
    "            \"Paur\": \"Paur\",\n",
    "            \"Ppip\": \"Ppip\",\n",
    "            \"Ppyg\": \"Ppyg\",\n",
    "            \"Rfer\": \"Rfer\",\n",
    "            \"Rhip\": \"Rhip\",\n",
    "            \"autofilled\": \"Auto Suggestion\",\n",
    "            \"manual_id\": \"Manual ID\",\n",
    "            \"reference_id\": \"Reference ID\",\n",
    "            \"global_10_min_class\": \"Global 10min Class\",\n",
    "            \"*_class\": \"* Class\" # * ist Platzhalter für Fledermausnamen\n",
    "        }\n"
   ],
   "metadata": {
    "collapsed": false,
    "pycharm": {
     "name": "#%%\n"
    }
   }
  },
  {
   "cell_type": "code",
   "execution_count": 4,
   "metadata": {
    "pycharm": {
     "name": "#%%\n"
    }
   },
   "outputs": [
    {
     "name": "stdout",
     "output_type": "stream",
     "text": [
      "=== Autoanalysed Bats ===\n",
      "Bbar:\t0.0%\n",
      "Malc:\t0.0%\n",
      "Mbec:\t0.0%\n",
      "MbraMmys:\t23.91%\n",
      "Mdau:\t6.01%\n",
      "Mnat:\t0.51%\n",
      "NSL:\t2.03%\n",
      "Paur:\t0.0%\n",
      "Ppip:\t52.39%\n",
      "Ppyg:\t14.13%\n",
      "Rfer:\t0.0%\n",
      "Rhip:\t0.0%\n",
      "Pnat:\t1.01%\n"
     ]
    }
   ],
   "source": [
    "session_1 = workbook.new_sheet(\"Standort 1 - Bach Boden\", \"30.04.22\")\n",
    "# display(session_1.bat_csv)\n",
    "session_1.print_statistics()\n",
    "# dies ist nur der Prozentsatz der gemachten Vorschläge und entspricht nicht dem endgültigen Ergebnis!"
   ]
  },
  {
   "cell_type": "markdown",
   "metadata": {
    "pycharm": {
     "name": "#%% md\n"
    }
   },
   "source": [
    "## Klassifizierung\n",
    "Klassifiziere alle mit Ppip's und Ppyg's, die:\n",
    "- eindeutig sind\n",
    "- eine Wahrscheinlichkeit ab 0.92 aufweisen\n",
    "\n",
    "**Vor dem Ausführen von `reduce()` sicher stellen, dass mindestens ein Exemplar von Ppip und Ppyg manuell identifiziert wurde!**\n",
    "\n"
   ]
  },
  {
   "cell_type": "code",
   "execution_count": 5,
   "metadata": {
    "pycharm": {
     "name": "#%%\n"
    }
   },
   "outputs": [
    {
     "name": "stdout",
     "output_type": "stream",
     "text": [
      "Classification progress: 505 left of 1076 (53.07%)\n"
     ]
    }
   ],
   "source": [
    "session_1.reduce(\"Ppip\", 0.92)\n",
    "session_1.reduce(\"Ppyg\", 0.92)\n",
    "#display(session_1.bat_csv)\n",
    "session_1.print_classification_progress()"
   ]
  },
  {
   "cell_type": "code",
   "execution_count": 6,
   "metadata": {
    "pycharm": {
     "name": "#%%\n"
    }
   },
   "outputs": [
    {
     "name": "stdout",
     "output_type": "stream",
     "text": [
      "{'Bbar': 'E1', 'Malc': 'F1', 'Mbec': 'G1', 'MbraMmys': 'H1', 'Mdau': 'I1', 'Mnat': 'J1', 'NSL': 'K1', 'Paur': 'L1', 'Ppip': 'M1', 'Ppyg': 'N1', 'Rfer': 'O1', 'Rhip': 'P1'}\n",
      "Saved nothing, file already exiting!\n"
     ]
    }
   ],
   "source": [
    "session_1.export_excel(\"Fledermausrufe_new\")"
   ]
  },
  {
   "cell_type": "markdown",
   "source": [
    "### ==================================================\n",
    "### Aufnahme 2 | Standort 1 - Bach Boden | 1.05.22\n",
    "### =================================================="
   ],
   "metadata": {
    "collapsed": false,
    "pycharm": {
     "name": "#%% md\n"
    }
   }
  },
  {
   "cell_type": "code",
   "execution_count": 7,
   "outputs": [
    {
     "name": "stdout",
     "output_type": "stream",
     "text": [
      "=== Autoanalysed Bats ===\n",
      "Bbar:\t0.12%\n",
      "Malc:\t0.0%\n",
      "Mbec:\t0.0%\n",
      "MbraMmys:\t15.13%\n",
      "Mdau:\t0.6%\n",
      "Mnat:\t1.27%\n",
      "NSL:\t1.27%\n",
      "Paur:\t0.0%\n",
      "Ppip:\t55.27%\n",
      "Ppyg:\t26.16%\n",
      "Rfer:\t0.0%\n",
      "Rhip:\t0.0%\n",
      "Pnat:\t0.18%\n",
      "Classification progress: 531 left of 1452 (63.43%)\n"
     ]
    }
   ],
   "source": [
    "session_2 = workbook.new_sheet(\"Standort 1 - Bach Boden\", \"1.05.22\")\n",
    "#display(session_2.bat_csv)\n",
    "session_2.print_statistics()\n",
    "session_2.reduce(\"Ppip\", 0.92)\n",
    "session_2.reduce(\"Ppyg\", 0.92)\n",
    "session_2.print_classification_progress()\n",
    "session_2.export_excel(\"Fledermausrufe_new\")"
   ],
   "metadata": {
    "collapsed": false,
    "pycharm": {
     "name": "#%%\n"
    }
   }
  },
  {
   "cell_type": "markdown",
   "source": [
    "### ==================================================\n",
    "### Aufnahme 3 | Standort 2 - Haus Boden | 3.05.22\n",
    "### =================================================="
   ],
   "metadata": {
    "collapsed": false,
    "pycharm": {
     "name": "#%% md\n"
    }
   }
  },
  {
   "cell_type": "code",
   "execution_count": 8,
   "outputs": [
    {
     "name": "stdout",
     "output_type": "stream",
     "text": [
      "=== Autoanalysed Bats ===\n",
      "Bbar:\t0.0%\n",
      "Malc:\t0.0%\n",
      "Mbec:\t0.0%\n",
      "MbraMmys:\t2.9%\n",
      "Mdau:\t0.0%\n",
      "Mnat:\t4.35%\n",
      "NSL:\t21.74%\n",
      "Paur:\t0.0%\n",
      "Ppip:\t20.29%\n",
      "Ppyg:\t50.72%\n",
      "Rfer:\t0.0%\n",
      "Rhip:\t0.0%\n",
      "Pnat:\t0.0%\n",
      "Classification progress: 24 left of 66 (63.64%)\n"
     ]
    }
   ],
   "source": [
    "session_3 = workbook.new_sheet(\"Standort 2 - Haus Boden\", \"3.05.22\")\n",
    "#display(session_2.bat_csv)\n",
    "session_3.print_statistics()\n",
    "session_3.reduce(\"Ppip\", 0.92)\n",
    "session_3.reduce(\"Ppyg\", 0.92)\n",
    "session_3.print_classification_progress()\n",
    "session_3.export_excel(\"Fledermausrufe\")"
   ],
   "metadata": {
    "collapsed": false,
    "pycharm": {
     "name": "#%%\n"
    }
   }
  }
 ],
 "metadata": {
  "interpreter": {
   "hash": "6d569a2471c24ea9465c07a6c3c726e5aa1e5a4165d214c2a259e269880b88f6"
  },
  "kernelspec": {
   "display_name": "Python 3.10.4 64-bit (windows store)",
   "language": "python",
   "name": "python3"
  },
  "language_info": {
   "codemirror_mode": {
    "name": "ipython",
    "version": 3
   },
   "file_extension": ".py",
   "mimetype": "text/x-python",
   "name": "python",
   "nbconvert_exporter": "python",
   "pygments_lexer": "ipython3",
   "version": "3.10.4"
  }
 },
 "nbformat": 4,
 "nbformat_minor": 4
}