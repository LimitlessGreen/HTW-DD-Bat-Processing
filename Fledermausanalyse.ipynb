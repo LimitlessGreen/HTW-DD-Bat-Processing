{
 "cells": [
  {
   "cell_type": "markdown",
   "metadata": {
    "collapsed": false,
    "pycharm": {
     "name": "#%% md\n"
    }
   },
   "source": [
    "# Fledermaus Worksheet .\n",
    "für die Arbeit mit dem Workflow der HTW Dresden im Fach Tierökologie."
   ]
  },
  {
   "cell_type": "code",
   "execution_count": 1,
   "metadata": {
    "collapsed": false,
    "pycharm": {
     "name": "#%%\n"
    }
   },
   "outputs": [],
   "source": [
    "import sys\n",
    "sys.path.insert(0, './')\n",
    "\n",
    "import BatWorkbook\n",
    "\n",
    "workbook = BatWorkbook.BatWorkbook(path=\"..\")\n",
    "designer = workbook.get_designer()\n",
    "\n",
    "# der designer gilt global für alle worksheets\n",
    "\n",
    "# Farbige Zeilen für die 10 Minuten Klassen\n",
    "designer.color_wheel_classes = [\"00ffefd4\", \"00fffeef\", \"00eff0ff\"]\n",
    "\n",
    "# Anpassen der Namen der Spalten in der späteren Excel Tabelle\n",
    "# \"interne_representation\": \"Name in der Excel Tabelle\"\n",
    "designer.columns = {\n",
    "            \"file_path\": \"FilePath\",\n",
    "            \"file_name\": \"FileName\",\n",
    "            \"date\": \"Date\",\n",
    "            \"time\": \"Time\",\n",
    "            \"Bbar\": \"Bbar\",\n",
    "            \"Malc\": \"Malc\",\n",
    "            \"Mbec\": \"Mbec\",\n",
    "            \"MbraMmys\": \"MbraMmys\",\n",
    "            \"Mdau\": \"Mdau\",\n",
    "            \"Mnat\": \"Mnat\",\n",
    "            \"NSL\": \"NSL\",\n",
    "            \"Paur\": \"Paur\",\n",
    "            \"Ppip\": \"Ppip\",\n",
    "            \"Ppyg\": \"Ppyg\",\n",
    "            \"Rfer\": \"Rfer\",\n",
    "            \"Rhip\": \"Rhip\",\n",
    "            \"autofilled\": \"Auto Suggestion\",\n",
    "            \"manual_id\": \"Manual ID\",\n",
    "            \"reference_id\": \"Reference ID\",\n",
    "            \"global_10_min_class\": \"Global 10min Class\",\n",
    "            \"*_class\": \"* Class\" # * ist Platzhalter für Fledermausnamen\n",
    "        }\n",
    "designer.add_extra_bats([\"Pnat\", \"Nnoc\", \"Nlei\", \"Vmur\", \"Eser\", \"Enil\", \"NSL (unbestimmt)\", \"Hsav\", \"Mmyo\", \"Mdas\"])"
   ]
  },
  {
   "cell_type": "markdown",
   "metadata": {},
   "source": [
    "### ==================================================\n",
    "### Aufnahme 1 | Standort 1 - Bach Boden | 30.04.22\n",
    "### =================================================="
   ]
  },
  {
   "cell_type": "code",
   "execution_count": 2,
   "metadata": {
    "pycharm": {
     "name": "#%%\n"
    }
   },
   "outputs": [
    {
     "name": "stdout",
     "output_type": "stream",
     "text": [
      "=== Autoanalysed Bats ===\n",
      "MbraMmys:\t23.91%\n",
      "Mdau:\t6.01%\n",
      "Mnat:\t0.51%\n",
      "NSL:\t2.03%\n",
      "Pnat:\t1.01%\n",
      "Ppip:\t52.39%\n",
      "Ppyg:\t14.13%\n"
     ]
    }
   ],
   "source": [
    "session_1 = workbook.new_sheet(\"Standort 1 - Bach Boden\", \"30.04.22\")\n",
    "# display(session_1.bat_csv)\n",
    "session_1.print_statistics()\n",
    "# dies ist nur der Prozentsatz der gemachten Vorschläge und entspricht nicht dem endgültigen Ergebnis!"
   ]
  },
  {
   "cell_type": "markdown",
   "metadata": {
    "pycharm": {
     "name": "#%% md\n"
    }
   },
   "source": [
    "## Klassifizierung\n",
    "Klassifiziere alle mit Ppip's und Ppyg's, die:\n",
    "- eindeutig sind\n",
    "- eine Wahrscheinlichkeit ab 0.92 aufweisen\n",
    "\n",
    "**Vor dem Ausführen von `reduce()` sicher stellen, dass mindestens ein Exemplar von Ppip und Ppyg manuell identifiziert wurde!**\n",
    "\n"
   ]
  },
  {
   "cell_type": "code",
   "execution_count": 3,
   "metadata": {
    "pycharm": {
     "name": "#%%\n"
    }
   },
   "outputs": [],
   "source": [
    "session_1.reduce(\"Ppip\", 0.92)\n",
    "session_1.reduce(\"Ppyg\", 0.92)\n",
    "#display(session_1.bat_csv)"
   ]
  },
  {
   "cell_type": "code",
   "execution_count": 4,
   "metadata": {
    "pycharm": {
     "name": "#%%\n"
    }
   },
   "outputs": [
    {
     "name": "stdout",
     "output_type": "stream",
     "text": [
      "Datasets are equal! Merging in new file\n",
      "File already exiting!\n",
      "Classification progress: 0 left of 1076 (100.0%)\n"
     ]
    }
   ],
   "source": [
    "session_1.export_excel(\"Fledermausrufe_export\")\n",
    "session_1.print_classification_progress()"
   ]
  },
  {
   "cell_type": "markdown",
   "metadata": {
    "collapsed": false,
    "pycharm": {
     "name": "#%% md\n"
    }
   },
   "source": [
    "### ==================================================\n",
    "### Aufnahme 2 | Standort 1 - Bach Boden | 1.05.22\n",
    "### =================================================="
   ]
  },
  {
   "cell_type": "code",
   "execution_count": 5,
   "metadata": {
    "collapsed": false,
    "pycharm": {
     "name": "#%%\n"
    }
   },
   "outputs": [
    {
     "name": "stdout",
     "output_type": "stream",
     "text": [
      "=== Autoanalysed Bats ===\n",
      "Bbar:\t0.12%\n",
      "MbraMmys:\t15.13%\n",
      "Mdau:\t0.6%\n",
      "Mnat:\t1.27%\n",
      "NSL:\t1.27%\n",
      "Pnat:\t0.18%\n",
      "Ppip:\t55.27%\n",
      "Ppyg:\t26.16%\n",
      "Datasets are equal! Merging in new file\n",
      "File already exiting!\n",
      "Classification progress: 0 left of 1452 (100.0%)\n"
     ]
    }
   ],
   "source": [
    "session_2 = workbook.new_sheet(\"Standort 1 - Bach Boden\", \"1.05.22\")\n",
    "#display(session_2.bat_csv)\n",
    "session_2.print_statistics()\n",
    "session_2.reduce(\"Ppip\", 0.92)\n",
    "session_2.reduce(\"Ppyg\", 0.92)\n",
    "session_2.export_excel(\"Fledermausrufe_export\")\n",
    "session_2.print_classification_progress()"
   ]
  },
  {
   "cell_type": "markdown",
   "metadata": {
    "collapsed": false,
    "pycharm": {
     "name": "#%% md\n"
    }
   },
   "source": [
    "### ==================================================\n",
    "### Aufnahme 3 | Standort 2 - Haus Boden | 3.05.22\n",
    "### =================================================="
   ]
  },
  {
   "cell_type": "code",
   "execution_count": 6,
   "metadata": {
    "collapsed": false,
    "pycharm": {
     "name": "#%%\n"
    }
   },
   "outputs": [
    {
     "name": "stdout",
     "output_type": "stream",
     "text": [
      "=== Autoanalysed Bats ===\n",
      "MbraMmys:\t2.9%\n",
      "Mnat:\t4.35%\n",
      "NSL:\t21.74%\n",
      "Ppip:\t20.29%\n",
      "Ppyg:\t50.72%\n",
      "Datasets are equal! Merging in new file\n",
      "File already exiting!\n",
      "Classification progress: 0 left of 66 (100.0%)\n"
     ]
    }
   ],
   "source": [
    "session_3 = workbook.new_sheet(\"Standort 2 - Haus Boden\", \"3.05.22\")\n",
    "#display(session_3.bat_csv)\n",
    "session_3.print_statistics()\n",
    "session_3.reduce(\"Ppip\", 0.92)\n",
    "session_3.reduce(\"Ppyg\", 0.92)\n",
    "session_3.export_excel(\"Fledermausrufe_export\")\n",
    "session_3.print_classification_progress()"
   ]
  },
  {
   "cell_type": "markdown",
   "metadata": {},
   "source": [
    "### ==================================================\n",
    "### Aufnahme 4 | Standort 2 - Haus Boden | 27.05.22\n",
    "### =================================================="
   ]
  },
  {
   "cell_type": "code",
   "execution_count": 7,
   "metadata": {
    "collapsed": false,
    "pycharm": {
     "name": "#%%\n"
    }
   },
   "outputs": [
    {
     "name": "stdout",
     "output_type": "stream",
     "text": [
      "=== Autoanalysed Bats ===\n",
      "MbraMmys:\t2.78%\n",
      "Mdau:\t2.78%\n",
      "Mnat:\t2.78%\n",
      "NSL:\t5.56%\n",
      "Ppip:\t41.67%\n",
      "Ppyg:\t44.44%\n",
      "Datasets are equal! Merging in new file\n",
      "File already exiting!\n",
      "Classification progress: 0 left of 33 (100.0%)\n"
     ]
    }
   ],
   "source": [
    "session_4 = workbook.new_sheet(\"Standort 2 - Haus Boden\", \"27.05.22\")\n",
    "#display(session_4.bat_csv)\n",
    "session_4.print_statistics()\n",
    "session_4.reduce(\"Ppip\", 0.92)\n",
    "session_4.reduce(\"Ppyg\", 0.92)\n",
    "session_4.export_excel(\"Fledermausrufe_export\")\n",
    "session_4.print_classification_progress()"
   ]
  },
  {
   "cell_type": "markdown",
   "metadata": {},
   "source": [
    "### ==================================================\n",
    "### Aufnahme 5 | Standort 2 - Haus Boden | 28.05.22\n",
    "### =================================================="
   ]
  },
  {
   "cell_type": "code",
   "execution_count": 8,
   "metadata": {},
   "outputs": [
    {
     "name": "stdout",
     "output_type": "stream",
     "text": [
      "=== Autoanalysed Bats ===\n",
      "Mnat:\t10.0%\n",
      "Ppip:\t50.0%\n",
      "Ppyg:\t40.0%\n",
      "Datasets are equal! Merging in new file\n",
      "File already exiting!\n",
      "Classification progress: 0 left of 20 (100.0%)\n"
     ]
    }
   ],
   "source": [
    "session_5 = workbook.new_sheet(\"Standort 2 - Haus Boden\", \"28.05.22\")\n",
    "#display(session_5.bat_csv)\n",
    "session_5.print_statistics()\n",
    "session_5.reduce(\"Ppip\", 0.92)\n",
    "session_5.reduce(\"Ppyg\", 0.92)\n",
    "session_5.export_excel(\"Fledermausrufe_export\")\n",
    "session_5.print_classification_progress()"
   ]
  },
  {
   "cell_type": "markdown",
   "metadata": {},
   "source": [
    "### ==================================================\n",
    "### Aufnahme 6 | Standort 2 - Haus Boden | 29.05.22\n",
    "### =================================================="
   ]
  },
  {
   "cell_type": "code",
   "execution_count": 9,
   "metadata": {},
   "outputs": [
    {
     "name": "stdout",
     "output_type": "stream",
     "text": [
      "=== Autoanalysed Bats ===\n",
      "Mnat:\t4.76%\n",
      "Ppip:\t50.0%\n",
      "Ppyg:\t45.24%\n",
      "Datasets are equal! Merging in new file\n",
      "File already exiting!\n",
      "Classification progress: 0 left of 39 (100.0%)\n"
     ]
    }
   ],
   "source": [
    "session_6 = workbook.new_sheet(\"Standort 2 - Haus Boden\", \"29.05.22\")\n",
    "#display(session_6.bat_csv)\n",
    "session_6.print_statistics()\n",
    "session_6.reduce(\"Ppip\", 0.92)\n",
    "session_6.reduce(\"Ppyg\", 0.92)\n",
    "session_6.export_excel(\"Fledermausrufe_export\")\n",
    "session_6.print_classification_progress()"
   ]
  },
  {
   "cell_type": "markdown",
   "metadata": {},
   "source": [
    "### ==================================================\n",
    "### Aufnahme 7 | Standort 1 - Bach Boden | 5.06.22\n",
    "### =================================================="
   ]
  },
  {
   "cell_type": "code",
   "execution_count": 10,
   "metadata": {},
   "outputs": [
    {
     "name": "stdout",
     "output_type": "stream",
     "text": [
      "=== Autoanalysed Bats ===\n",
      "MbraMmys:\t18.66%\n",
      "Mdau:\t2.99%\n",
      "Mnat:\t2.99%\n",
      "NSL:\t9.7%\n",
      "Ppip:\t61.19%\n",
      "Ppyg:\t4.48%\n",
      "Datasets are equal! Merging in new file\n",
      "File already exiting!\n",
      "Classification progress: 0 left of 129 (100.0%)\n"
     ]
    }
   ],
   "source": [
    "session_7 = workbook.new_sheet(\"Standort 1 - Bach Boden\", \"5.06.22\")\n",
    "#display(session_7.bat_csv)\n",
    "session_7.print_statistics()\n",
    "session_7.reduce(\"Ppip\", 0.92)\n",
    "session_7.reduce(\"Ppyg\", 0.92)\n",
    "session_7.export_excel(\"Fledermausrufe_export\")\n",
    "session_7.print_classification_progress()"
   ]
  },
  {
   "cell_type": "markdown",
   "metadata": {},
   "source": [
    "### ==================================================\n",
    "### Aufnahme 8 | Standort 3 - Wiese Großdittmannsdorf | 22.06.22\n",
    "### =================================================="
   ]
  },
  {
   "cell_type": "code",
   "execution_count": 11,
   "metadata": {},
   "outputs": [
    {
     "name": "stdout",
     "output_type": "stream",
     "text": [
      "=== Autoanalysed Bats ===\n",
      "Mnat:\t2.86%\n",
      "NSL:\t80.48%\n",
      "Ppip:\t11.9%\n",
      "Ppyg:\t4.76%\n",
      "Datasets are equal! Merging in new file\n",
      "File already exiting!\n",
      "Classification progress: 0 left of 216 (100.0%)\n"
     ]
    }
   ],
   "source": [
    "session_8 = workbook.new_sheet(\"Standort 3 - Wiese Großdittmannsdorf\", \"22.06.22\")\n",
    "#display(session_8.bat_csv)\n",
    "session_8.print_statistics()\n",
    "session_8.reduce(\"Ppip\", 0.92)\n",
    "session_8.reduce(\"Ppyg\", 0.92)\n",
    "session_8.export_excel(\"Fledermausrufe_export\")\n",
    "session_8.print_classification_progress()"
   ]
  },
  {
   "cell_type": "markdown",
   "metadata": {},
   "source": [
    "### ==================================================\n",
    "### Aufnahme 9 | Standort 3 - Wiese Großdittmannsdorf | 23.06.22\n",
    "### =================================================="
   ]
  },
  {
   "cell_type": "code",
   "execution_count": 12,
   "metadata": {},
   "outputs": [
    {
     "name": "stdout",
     "output_type": "stream",
     "text": [
      "=== Autoanalysed Bats ===\n",
      "MbraMmys:\t0.96%\n",
      "Mnat:\t1.44%\n",
      "NSL:\t85.65%\n",
      "Ppip:\t11.0%\n",
      "Ppyg:\t0.96%\n",
      "Datasets are equal! Merging in new file\n",
      "File already exiting!\n",
      "Classification progress: 0 left of 223 (100.0%)\n"
     ]
    }
   ],
   "source": [
    "session_9 = workbook.new_sheet(\"Standort 3 - Wiese Großdittmannsdorf\", \"23.06.22\")\n",
    "#display(session_9.bat_csv)\n",
    "session_9.print_statistics()\n",
    "session_9.reduce(\"Ppip\", 0.92)\n",
    "session_9.reduce(\"Ppyg\", 0.92)\n",
    "session_9.export_excel(\"Fledermausrufe_export\")\n",
    "session_9.print_classification_progress()"
   ]
  },
  {
   "cell_type": "markdown",
   "metadata": {},
   "source": [
    "### ==================================================\n",
    "### Aufnahme 10 | Standort 3 - Wiese Großdittmannsdorf | 24.06.22\n",
    "### =================================================="
   ]
  },
  {
   "cell_type": "code",
   "execution_count": 13,
   "metadata": {},
   "outputs": [
    {
     "name": "stdout",
     "output_type": "stream",
     "text": [
      "=== Autoanalysed Bats ===\n",
      "Mnat:\t4.44%\n",
      "NSL:\t68.89%\n",
      "Ppip:\t21.11%\n",
      "Ppyg:\t5.56%\n",
      "Datasets are equal! Merging in new file\n",
      "File already exiting!\n",
      "Classification progress: 0 left of 93 (100.0%)\n"
     ]
    }
   ],
   "source": [
    "session_10 = workbook.new_sheet(\"Standort 3 - Wiese Großdittmannsdorf\", \"24.06.22\")\n",
    "#display(session_10.bat_csv)\n",
    "session_10.print_statistics()\n",
    "session_10.reduce(\"Ppip\", 0.92)\n",
    "session_10.reduce(\"Ppyg\", 0.92)\n",
    "session_10.export_excel(\"Fledermausrufe_export\")\n",
    "session_10.print_classification_progress()"
   ]
  },
  {
   "cell_type": "markdown",
   "metadata": {},
   "source": [
    "### ==================================================\n",
    "### Aufnahme 11 | Standort 3 - Wiese Großdittmannsdorf | 25.06.22\n",
    "### =================================================="
   ]
  },
  {
   "cell_type": "code",
   "execution_count": 14,
   "metadata": {},
   "outputs": [
    {
     "name": "stdout",
     "output_type": "stream",
     "text": [
      "=== Autoanalysed Bats ===\n",
      "Mnat:\t2.3%\n",
      "NSL:\t93.1%\n",
      "Pnat:\t0.57%\n",
      "Ppip:\t2.87%\n",
      "Ppyg:\t1.15%\n",
      "Datasets are equal! Merging in new file\n",
      "File already exiting!\n",
      "Classification progress: 0 left of 192 (100.0%)\n"
     ]
    }
   ],
   "source": [
    "session_11 = workbook.new_sheet(\"Standort 3 - Wiese Großdittmannsdorf\", \"25.06.22\")\n",
    "#display(session_11.bat_csv)\n",
    "session_11.print_statistics()\n",
    "session_11.reduce(\"Ppip\", 0.92)\n",
    "session_11.reduce(\"Ppyg\", 0.92)\n",
    "session_11.export_excel(\"Fledermausrufe_export\")\n",
    "session_11.print_classification_progress()"
   ]
  },
  {
   "cell_type": "markdown",
   "metadata": {},
   "source": [
    "### ==================================================\n",
    "### Aufnahme 12 | Zusatzstandort 1 - Wald Boden | 2.05.22\n",
    "### =================================================="
   ]
  },
  {
   "cell_type": "code",
   "execution_count": 15,
   "metadata": {},
   "outputs": [
    {
     "name": "stdout",
     "output_type": "stream",
     "text": [
      "=== Autoanalysed Bats ===\n",
      "NSL:\t17.24%\n",
      "Ppip:\t79.31%\n",
      "Ppyg:\t3.45%\n",
      "Datasets are equal! Merging in new file\n",
      "File already exiting!\n",
      "Classification progress: 0 left of 29 (100.0%)\n"
     ]
    }
   ],
   "source": [
    "session_12 = workbook.new_sheet(\"Zusatzstandort 1 - Wald Boden\", \"2.05.22\")\n",
    "#display(session_12.bat_csv)\n",
    "session_12.print_statistics()\n",
    "session_12.reduce(\"Ppip\", 0.92)\n",
    "session_12.reduce(\"Ppyg\", 0.92)\n",
    "session_12.export_excel(\"Fledermausrufe_neu\")\n",
    "session_12.print_classification_progress()"
   ]
  },
  {
   "cell_type": "markdown",
   "metadata": {},
   "source": [
    "### ==================================================\n",
    "### Aufnahme 13 | Zusatzstandort 2 - Dresden Südhöhe | 26.05.22\n",
    "### =================================================="
   ]
  },
  {
   "cell_type": "code",
   "execution_count": 16,
   "metadata": {},
   "outputs": [
    {
     "name": "stdout",
     "output_type": "stream",
     "text": [
      "=== Autoanalysed Bats ===\n",
      "Mnat:\t12.5%\n",
      "NSL:\t37.5%\n",
      "Ppip:\t50.0%\n",
      "Datasets are equal! Merging in new file\n",
      "File already exiting!\n",
      "Classification progress: 0 left of 8 (100.0%)\n"
     ]
    }
   ],
   "source": [
    "session_13 = workbook.new_sheet(\"Zusatzstandort 2 - Dresden Südhöhe\", \"26.05.22\")\n",
    "#display(session_13.bat_csv)\n",
    "session_13.print_statistics()\n",
    "session_13.reduce(\"Ppip\", 0.92)\n",
    "session_13.reduce(\"Ppyg\", 0.92)\n",
    "session_13.export_excel(\"Fledermausrufe_neu\")\n",
    "session_13.print_classification_progress()"
   ]
  },
  {
   "cell_type": "markdown",
   "metadata": {},
   "source": [
    "### ==================================================\n",
    "### Aufnahme 14 | Zusatzstandort 3 - Oelsen | 13.06.22\n",
    "### =================================================="
   ]
  },
  {
   "cell_type": "code",
   "execution_count": 17,
   "metadata": {},
   "outputs": [
    {
     "name": "stdout",
     "output_type": "stream",
     "text": [
      "=== Autoanalysed Bats ===\n",
      "MbraMmys:\t57.14%\n",
      "NSL:\t7.14%\n",
      "Ppip:\t21.43%\n",
      "Ppyg:\t7.14%\n",
      "Rhip:\t7.14%\n",
      "Datasets are equal! Merging in new file\n",
      "File already exiting!\n",
      "Classification progress: 0 left of 14 (100.0%)\n"
     ]
    }
   ],
   "source": [
    "session_14 = workbook.new_sheet(\"Zusatzstandort 3 - Oelsen\", \"13.06.22\")\n",
    "#display(session_14.bat_csv)\n",
    "session_14.print_statistics()\n",
    "session_14.reduce(\"Ppip\", 0.92)\n",
    "session_14.reduce(\"Ppyg\", 0.92)\n",
    "session_14.export_excel(\"Fledermausrufe_export\")\n",
    "session_14.print_classification_progress()"
   ]
  },
  {
   "cell_type": "markdown",
   "metadata": {},
   "source": [
    "### ==================================================\n",
    "### Aufnahme 15 | Zusatzstandort 3 - Oelsen | 14.06.22\n",
    "### =================================================="
   ]
  },
  {
   "cell_type": "code",
   "execution_count": 18,
   "metadata": {},
   "outputs": [
    {
     "name": "stdout",
     "output_type": "stream",
     "text": [
      "=== Autoanalysed Bats ===\n",
      "Malc:\t4.55%\n",
      "MbraMmys:\t50.0%\n",
      "Mdau:\t22.73%\n",
      "Ppip:\t22.73%\n",
      "Datasets are equal! Merging in new file\n",
      "File already exiting!\n",
      "Classification progress: 0 left of 18 (100.0%)\n"
     ]
    }
   ],
   "source": [
    "session_15 = workbook.new_sheet(\"Zusatzstandort 3 - Oelsen\", \"14.06.22\")\n",
    "#display(session_15.bat_csv)\n",
    "session_15.print_statistics()\n",
    "session_15.reduce(\"Ppip\", 0.92)\n",
    "session_15.reduce(\"Ppyg\", 0.92)\n",
    "session_15.export_excel(\"Fledermausrufe_export\")\n",
    "session_15.print_classification_progress()"
   ]
  },
  {
   "cell_type": "markdown",
   "metadata": {},
   "source": [
    "### ==================================================\n",
    "### Aufnahme 16 | Zusatzstandort 3 - Oelsen | 15.06.22\n",
    "### =================================================="
   ]
  },
  {
   "cell_type": "code",
   "execution_count": 19,
   "metadata": {},
   "outputs": [
    {
     "name": "stdout",
     "output_type": "stream",
     "text": [
      "=== Autoanalysed Bats ===\n",
      "MbraMmys:\t7.41%\n",
      "Mdau:\t3.7%\n",
      "Ppip:\t85.19%\n",
      "Ppyg:\t3.7%\n",
      "Datasets are equal! Merging in new file\n",
      "File already exiting!\n",
      "Classification progress: 0 left of 26 (100.0%)\n"
     ]
    }
   ],
   "source": [
    "session_16 = workbook.new_sheet(\"Zusatzstandort 3 - Oelsen\", \"15.06.22\")\n",
    "#display(session_16.bat_csv)\n",
    "session_16.print_statistics()\n",
    "session_16.reduce(\"Ppip\", 0.92)\n",
    "session_16.reduce(\"Ppyg\", 0.92)\n",
    "session_16.export_excel(\"Fledermausrufe_export\")\n",
    "session_16.print_classification_progress()"
   ]
  },
  {
   "cell_type": "markdown",
   "metadata": {},
   "source": [
    "### ==================================================\n",
    "### Aufnahme 17 | Zusatzstandort 3 - Oelsen | 16.06.22\n",
    "### =================================================="
   ]
  },
  {
   "cell_type": "code",
   "execution_count": 20,
   "metadata": {},
   "outputs": [
    {
     "name": "stdout",
     "output_type": "stream",
     "text": [
      "=== Autoanalysed Bats ===\n",
      "MbraMmys:\t17.65%\n",
      "Mdau:\t11.76%\n",
      "Ppip:\t70.59%\n",
      "Datasets are equal! Merging in new file\n",
      "File already exiting!\n",
      "Classification progress: 0 left of 15 (100.0%)\n"
     ]
    }
   ],
   "source": [
    "session_17 = workbook.new_sheet(\"Zusatzstandort 3 - Oelsen\", \"16.06.22\")\n",
    "#display(session_17.bat_csv)\n",
    "session_17.print_statistics()\n",
    "session_17.reduce(\"Ppip\", 0.92)\n",
    "session_17.reduce(\"Ppyg\", 0.92)\n",
    "session_17.export_excel(\"Fledermausrufe_export\")\n",
    "session_17.print_classification_progress()"
   ]
  }
 ],
 "metadata": {
  "kernelspec": {
   "display_name": "Python 3.10.5 64-bit",
   "language": "python",
   "name": "python3"
  },
  "language_info": {
   "codemirror_mode": {
    "name": "ipython",
    "version": 3
   },
   "file_extension": ".py",
   "mimetype": "text/x-python",
   "name": "python",
   "nbconvert_exporter": "python",
   "pygments_lexer": "ipython3",
   "version": "3.10.5"
  },
  "vscode": {
   "interpreter": {
    "hash": "e7370f93d1d0cde622a1f8e1c04877d8463912d04d973331ad4851f04de6915a"
   }
  }
 },
 "nbformat": 4,
 "nbformat_minor": 4
}
